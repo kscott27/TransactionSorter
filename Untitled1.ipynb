{
 "cells": [
  {
   "cell_type": "code",
   "execution_count": 239,
   "metadata": {},
   "outputs": [],
   "source": [
    "import pandas as pd\n",
    "import matplotlib.pyplot as plt"
   ]
  },
  {
   "cell_type": "code",
   "execution_count": 240,
   "metadata": {},
   "outputs": [],
   "source": [
    "class PlannedTransaction():\n",
    "\n",
    "  def __init__(self, name=None):\n",
    "    self.name = name\n",
    "    self.initialized = False\n",
    "    self.key = None\n",
    "\n",
    "  def initialize(self, date=None, category=None, amount=0.0, location=None, \n",
    "                 idKeywords=[], recurring=False, rateOfRecurrence=None, priority=3):\n",
    "    self.initialized = True\n",
    "    self.date = date\n",
    "    self.category = category\n",
    "    self.amount = amount\n",
    "    self.location = location\n",
    "    self.idKeywords = idKeywords\n",
    "    self.priority = priority\n",
    "\n",
    "    if recurring == True:\n",
    "      if rateOfRecurrence == \"annually\":\n",
    "        self.recurring = recurring\n",
    "        self.rateOfRecurrence = rateOfRecurrence\n",
    "      elif rateOfRecurrence == \"bi-annually\":\n",
    "        self.recurring = recurring\n",
    "        self.rateOfRecurrence = rateOfRecurrence\n",
    "      elif rateOfRecurrence == \"quarterly\":\n",
    "        self.recurring = recurring\n",
    "        self.rateOfRecurrence == rateOfRecurrence\n",
    "      elif rateOfRecurrence == \"monthly\":\n",
    "        self.recurring = recurring\n",
    "        self.rateOfRecurrence = rateOfRecurrence\n",
    "      elif rateOfRecurrence == \"bi-weekly\":\n",
    "        self.recurring = recurring\n",
    "        self.rateOfRecurrence = rateOfRecurrence\n",
    "      elif rateOfRecurrence == \"weekly\":\n",
    "        self.recurring = recurring\n",
    "        self.rateOfRecurrence = rateOfRecurrence\n",
    "      elif rateOfRecurrence == \"daily\":\n",
    "        self.recurring = recurring\n",
    "        self.rateOfRecurrence = rateOfRecurrence\n",
    "      else:\n",
    "        print(\"Unrecognized rate of recurrence - transaction has defaulted to non-recurring.\")\n",
    "        self.recurring = False\n",
    "        self.rateOfRecurrence = None\n",
    "    else:\n",
    "      self.recurring = False\n",
    "      self.rateOfRecurrence = None"
   ]
  },
  {
   "cell_type": "code",
   "execution_count": 250,
   "metadata": {},
   "outputs": [
    {
     "data": {
      "text/plain": [
       "(<__main__.PlannedTransaction at 0x27d87756828>,\n",
       " '2019/04/03',\n",
       " 500,\n",
       " 'bi-weekly')"
      ]
     },
     "execution_count": 250,
     "metadata": {},
     "output_type": "execute_result"
    }
   ],
   "source": [
    "Coachella = PlannedTransaction()\n",
    "Coachella.date = '2019/04/03'\n",
    "Coachella.amount = 500\n",
    "Coachella.rateOfRecurrence = 'bi-weekly'\n",
    "Coachella.priority = 2\n",
    "Coachella, Coachella.date, Coachella.amount, Coachella.rateOfRecurrence"
   ]
  },
  {
   "cell_type": "code",
   "execution_count": 252,
   "metadata": {},
   "outputs": [
    {
     "data": {
      "text/plain": [
       "'2019/05/05'"
      ]
     },
     "execution_count": 252,
     "metadata": {},
     "output_type": "execute_result"
    }
   ],
   "source": [
    "petLemur = PlannedTransaction()\n",
    "petLemur.date = '2019/05/05'\n",
    "petLemur.amount = 500\n",
    "petLemur.rateOfRecurrence = 'monthly'\n",
    "petLemur.priority = 1\n",
    "petLemur.date"
   ]
  },
  {
   "cell_type": "code",
   "execution_count": 320,
   "metadata": {},
   "outputs": [],
   "source": [
    "class PseudoPandasAgent():\n",
    "    \n",
    "    def __init__(self, list):\n",
    "        self.plannedDf = pd.DataFrame(columns=['Date', 'Amount', 'Recurrence','Priority'])\n",
    "        self.dataProcessor = DataProcessor()\n",
    "        self.plannedTransactionsList = list\n",
    "        \n",
    "    def makePlannedTransactionDataframe(self):\n",
    "        for item in self.plannedTransactionsList:\n",
    "            package = self.dataProcessor.packageTransactionData(item.date, item.name, item.amount,\n",
    "                                                                item.priority, item.rateOfRecurrence)\n",
    "            \n",
    "            self.plannedDf = self.addTransactionToDataframe(transaction).sort_values(by='Date')\n",
    "            \n",
    "            \n",
    "            \n",
    "    def addTransactionToDataframe(self, transaction):\n",
    "        for item in transaction.date:\n",
    "            self.plannedDf = self.plannedDf.append({'Date': item, 'Amount': transaction.amount,\n",
    "                    'Recurrence': transaction.rateOfRecurrence, 'Priority': transaction.priority}, ignore_index=True)\n",
    "        \n",
    "        \n",
    "        return self.plannedDf"
   ]
  },
  {
   "cell_type": "code",
   "execution_count": 321,
   "metadata": {},
   "outputs": [
    {
     "data": {
      "text/plain": [
       "[<__main__.PlannedTransaction at 0x27d87756828>,\n",
       " <__main__.PlannedTransaction at 0x27d8769d978>]"
      ]
     },
     "execution_count": 321,
     "metadata": {},
     "output_type": "execute_result"
    }
   ],
   "source": [
    "plannedList = []\n",
    "plannedList.append(Coachella)\n",
    "plannedList.append(petLemur)\n",
    "plannedList"
   ]
  },
  {
   "cell_type": "code",
   "execution_count": 322,
   "metadata": {},
   "outputs": [],
   "source": [
    "class TransactionPackage():\n",
    "    \n",
    "    def __init__(self, name=None, date=None, amount=None, priority=None):\n",
    "        self.name = None\n",
    "        self.date = None\n",
    "        self.amount = None\n",
    "        self.priority = None\n",
    "        self.rateOfRecurrence = None"
   ]
  },
  {
   "cell_type": "code",
   "execution_count": 323,
   "metadata": {},
   "outputs": [],
   "source": [
    "class DataProcessor():\n",
    "\n",
    "\n",
    "    def __init__(self, freqKey=None):\n",
    "        self.freqKey = {'annually': ['A', 1], 'monthly': ['M', 12], 'bi-weekly': ['2W', 26] , 'weekly': ['W', 52]}\n",
    "\n",
    "    def createDateList(self, startDay, rateOfRecurrence):\n",
    "        if rateOfRecurrence == None:\n",
    "          return list(startDay)\n",
    "        \n",
    "        print(startDay, self.freqKey[rateOfRecurrence][1], self.freqKey[rateOfRecurrence][0])\n",
    "\n",
    "        return list(pd.date_range(startDay, periods=self.freqKey[rateOfRecurrence][1], freq=self.freqKey[rateOfRecurrence][0]))\n",
    "\n",
    "    def packageTransactionData(self, date, name, amount, priority, rateOfRecurrence):\n",
    "        package = TransactionPackage()\n",
    "        package.name = name\n",
    "        package.date = self.createDateList(date, rateOfRecurrence)\n",
    "        package.amount = amount\n",
    "        package.rateOfRecurrence = rateOfRecurrence\n",
    "        package.priority = priority\n",
    "        \n",
    "        return package"
   ]
  },
  {
   "cell_type": "code",
   "execution_count": 324,
   "metadata": {},
   "outputs": [],
   "source": [
    "agent = PseudoPandasAgent(plannedList)"
   ]
  },
  {
   "cell_type": "code",
   "execution_count": 325,
   "metadata": {},
   "outputs": [
    {
     "name": "stdout",
     "output_type": "stream",
     "text": [
      "2019/04/03 26 2W\n"
     ]
    },
    {
     "ename": "NameError",
     "evalue": "name 'transaction' is not defined",
     "output_type": "error",
     "traceback": [
      "\u001b[1;31m---------------------------------------------------------------------------\u001b[0m",
      "\u001b[1;31mNameError\u001b[0m                                 Traceback (most recent call last)",
      "\u001b[1;32m<ipython-input-325-d4880685893c>\u001b[0m in \u001b[0;36m<module>\u001b[1;34m\u001b[0m\n\u001b[1;32m----> 1\u001b[1;33m \u001b[0magent\u001b[0m\u001b[1;33m.\u001b[0m\u001b[0mmakePlannedTransactionDataframe\u001b[0m\u001b[1;33m(\u001b[0m\u001b[1;33m)\u001b[0m\u001b[1;33m\u001b[0m\u001b[1;33m\u001b[0m\u001b[0m\n\u001b[0m",
      "\u001b[1;32m<ipython-input-320-131758cbbc3f>\u001b[0m in \u001b[0;36mmakePlannedTransactionDataframe\u001b[1;34m(self)\u001b[0m\n\u001b[0;32m     11\u001b[0m                                                                 item.priority, item.rateOfRecurrence)\n\u001b[0;32m     12\u001b[0m \u001b[1;33m\u001b[0m\u001b[0m\n\u001b[1;32m---> 13\u001b[1;33m             \u001b[0mself\u001b[0m\u001b[1;33m.\u001b[0m\u001b[0mplannedDf\u001b[0m \u001b[1;33m=\u001b[0m \u001b[0mself\u001b[0m\u001b[1;33m.\u001b[0m\u001b[0maddTransactionToDataframe\u001b[0m\u001b[1;33m(\u001b[0m\u001b[0mtransaction\u001b[0m\u001b[1;33m)\u001b[0m\u001b[1;33m.\u001b[0m\u001b[0msort_values\u001b[0m\u001b[1;33m(\u001b[0m\u001b[0mby\u001b[0m\u001b[1;33m=\u001b[0m\u001b[1;34m'Date'\u001b[0m\u001b[1;33m)\u001b[0m\u001b[1;33m\u001b[0m\u001b[1;33m\u001b[0m\u001b[0m\n\u001b[0m\u001b[0;32m     14\u001b[0m \u001b[1;33m\u001b[0m\u001b[0m\n\u001b[0;32m     15\u001b[0m \u001b[1;33m\u001b[0m\u001b[0m\n",
      "\u001b[1;31mNameError\u001b[0m: name 'transaction' is not defined"
     ]
    }
   ],
   "source": [
    "agent.makePlannedTransactionDataframe()"
   ]
  },
  {
   "cell_type": "code",
   "execution_count": 326,
   "metadata": {},
   "outputs": [
    {
     "ename": "AttributeError",
     "evalue": "'PseudoPandasAgent' object has no attribute 'df'",
     "output_type": "error",
     "traceback": [
      "\u001b[1;31m---------------------------------------------------------------------------\u001b[0m",
      "\u001b[1;31mAttributeError\u001b[0m                            Traceback (most recent call last)",
      "\u001b[1;32m<ipython-input-326-74d3b772948f>\u001b[0m in \u001b[0;36m<module>\u001b[1;34m\u001b[0m\n\u001b[1;32m----> 1\u001b[1;33m \u001b[0magent\u001b[0m\u001b[1;33m.\u001b[0m\u001b[0mdf\u001b[0m\u001b[1;33m\u001b[0m\u001b[1;33m\u001b[0m\u001b[0m\n\u001b[0m",
      "\u001b[1;31mAttributeError\u001b[0m: 'PseudoPandasAgent' object has no attribute 'df'"
     ]
    }
   ],
   "source": [
    "agent.df"
   ]
  },
  {
   "cell_type": "code",
   "execution_count": null,
   "metadata": {},
   "outputs": [],
   "source": []
  }
 ],
 "metadata": {
  "kernelspec": {
   "display_name": "Python 3",
   "language": "python",
   "name": "python3"
  },
  "language_info": {
   "codemirror_mode": {
    "name": "ipython",
    "version": 3
   },
   "file_extension": ".py",
   "mimetype": "text/x-python",
   "name": "python",
   "nbconvert_exporter": "python",
   "pygments_lexer": "ipython3",
   "version": "3.7.3"
  }
 },
 "nbformat": 4,
 "nbformat_minor": 2
}
