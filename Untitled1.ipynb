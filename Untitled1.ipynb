{
 "cells": [
  {
   "cell_type": "code",
   "execution_count": 239,
   "metadata": {},
   "outputs": [],
   "source": [
    "import pandas as pd\n",
    "import matplotlib.pyplot as plt"
   ]
  },
  {
   "cell_type": "code",
   "execution_count": 240,
   "metadata": {},
   "outputs": [],
   "source": [
    "class PlannedTransaction():\n",
    "\n",
    "  def __init__(self, name=None):\n",
    "    self.name = name\n",
    "    self.initialized = False\n",
    "    self.key = None\n",
    "\n",
    "  def initialize(self, date=None, category=None, amount=0.0, location=None, \n",
    "                 idKeywords=[], recurring=False, rateOfRecurrence=None, priority=3):\n",
    "    self.initialized = True\n",
    "    self.date = date\n",
    "    self.category = category\n",
    "    self.amount = amount\n",
    "    self.location = location\n",
    "    self.idKeywords = idKeywords\n",
    "    self.priority = priority\n",
    "\n",
    "    if recurring == True:\n",
    "      if rateOfRecurrence == \"annually\":\n",
    "        self.recurring = recurring\n",
    "        self.rateOfRecurrence = rateOfRecurrence\n",
    "      elif rateOfRecurrence == \"bi-annually\":\n",
    "        self.recurring = recurring\n",
    "        self.rateOfRecurrence = rateOfRecurrence\n",
    "      elif rateOfRecurrence == \"quarterly\":\n",
    "        self.recurring = recurring\n",
    "        self.rateOfRecurrence == rateOfRecurrence\n",
    "      elif rateOfRecurrence == \"monthly\":\n",
    "        self.recurring = recurring\n",
    "        self.rateOfRecurrence = rateOfRecurrence\n",
    "      elif rateOfRecurrence == \"bi-weekly\":\n",
    "        self.recurring = recurring\n",
    "        self.rateOfRecurrence = rateOfRecurrence\n",
    "      elif rateOfRecurrence == \"weekly\":\n",
    "        self.recurring = recurring\n",
    "        self.rateOfRecurrence = rateOfRecurrence\n",
    "      elif rateOfRecurrence == \"daily\":\n",
    "        self.recurring = recurring\n",
    "        self.rateOfRecurrence = rateOfRecurrence\n",
    "      else:\n",
    "        print(\"Unrecognized rate of recurrence - transaction has defaulted to non-recurring.\")\n",
    "        self.recurring = False\n",
    "        self.rateOfRecurrence = None\n",
    "    else:\n",
    "      self.recurring = False\n",
    "      self.rateOfRecurrence = None"
   ]
  },
  {
   "cell_type": "code",
   "execution_count": 250,
   "metadata": {},
   "outputs": [
    {
     "data": {
      "text/plain": [
       "(<__main__.PlannedTransaction at 0x27d87756828>,\n",
       " '2019/04/03',\n",
       " 500,\n",
       " 'bi-weekly')"
      ]
     },
     "execution_count": 250,
     "metadata": {},
     "output_type": "execute_result"
    }
   ],
   "source": [
    "Coachella = PlannedTransaction()\n",
    "Coachella.date = '2019/04/03'\n",
    "Coachella.amount = 500\n",
    "Coachella.rateOfRecurrence = 'bi-weekly'\n",
    "Coachella.priority = 2\n",
    "Coachella, Coachella.date, Coachella.amount, Coachella.rateOfRecurrence"
   ]
  },
  {
   "cell_type": "code",
   "execution_count": 252,
   "metadata": {},
   "outputs": [
    {
     "data": {
      "text/plain": [
       "'2019/05/05'"
      ]
     },
     "execution_count": 252,
     "metadata": {},
     "output_type": "execute_result"
    }
   ],
   "source": [
    "petLemur = PlannedTransaction()\n",
    "petLemur.date = '2019/05/05'\n",
    "petLemur.amount = 500\n",
    "petLemur.rateOfRecurrence = 'monthly'\n",
    "petLemur.priority = 1\n",
    "petLemur.date"
   ]
  },
  {
   "cell_type": "code",
   "execution_count": 253,
   "metadata": {},
   "outputs": [],
   "source": [
    "class PseudoPandasAgent():\n",
    "    \n",
    "    def __init__(self, list):\n",
    "        self.dataframeCreator = DataframeCreator()\n",
    "        self.dataProcessor = DataProcessor()\n",
    "        self.plannedTransactionsList = list\n",
    "        \n",
    "    def makePlannedTransactionDataframe(self):\n",
    "        print(self.plannedTransactionsList)\n",
    "        for item in self.plannedTransactionsList:\n",
    "            print(item)\n",
    "            package = self.dataProcessor.packageTransactionData(item.date, item.name, item.amount,\n",
    "                                                                item.priority, item.rateOfRecurrence)\n",
    "            self.dataframeCreator.addTransactionToDataframe(package)"
   ]
  },
  {
   "cell_type": "code",
   "execution_count": 254,
   "metadata": {},
   "outputs": [
    {
     "data": {
      "text/plain": [
       "[<__main__.PlannedTransaction at 0x27d87756828>,\n",
       " <__main__.PlannedTransaction at 0x27d8769d978>]"
      ]
     },
     "execution_count": 254,
     "metadata": {},
     "output_type": "execute_result"
    }
   ],
   "source": [
    "plannedList = []\n",
    "plannedList.append(Coachella)\n",
    "plannedList.append(petLemur)\n",
    "plannedList"
   ]
  },
  {
   "cell_type": "code",
   "execution_count": 255,
   "metadata": {},
   "outputs": [],
   "source": [
    "class TransactionPackage():\n",
    "    \n",
    "    def __init__(self, name=None, date=None, amount=None, priority=None):\n",
    "        self.name = None\n",
    "        self.date = None\n",
    "        self.amount = None\n",
    "        self.priority = None\n",
    "        self.rateOfRecurrence = None"
   ]
  },
  {
   "cell_type": "code",
   "execution_count": 260,
   "metadata": {},
   "outputs": [],
   "source": [
    "class DataframeCreator():\n",
    "\n",
    "    def __init__(self, df=None): \n",
    "        self.plannedDf = pd.DataFrame(columns=['Date', 'Amount', 'Recurrence','Priority'])\n",
    "\n",
    "    def addTransactionToDataframe(self, transaction):\n",
    "        for item in transaction.date:\n",
    "            self.plannedDf = self.plannedDf.append({'Date': item, 'Amount': transaction.amount,\n",
    "                    'Recurrence': transaction.rateOfRecurrence, 'Priority': transaction.priority}, ignore_index=True)\n",
    "        \n",
    "        print(self.plannedDf[')\n",
    "        \n",
    "    def sortTransactions(self):\n",
    "        self.plannedDf['Date'].sort_values()"
   ]
  },
  {
   "cell_type": "code",
   "execution_count": 257,
   "metadata": {},
   "outputs": [],
   "source": [
    "class DataProcessor():\n",
    "\n",
    "\n",
    "    def __init__(self, freqKey=None):\n",
    "        self.freqKey = {'annually': ['A', 1], 'monthly': ['M', 12], 'bi-weekly': ['2W', 26] , 'weekly': ['W', 52]}\n",
    "\n",
    "    def createDateList(self, startDay, rateOfRecurrence):\n",
    "        if rateOfRecurrence == None:\n",
    "          return list(startDay)\n",
    "        \n",
    "        print(startDay, self.freqKey[rateOfRecurrence][1], self.freqKey[rateOfRecurrence][0])\n",
    "\n",
    "        return list(pd.date_range(startDay, periods=self.freqKey[rateOfRecurrence][1], freq=self.freqKey[rateOfRecurrence][0]))\n",
    "\n",
    "    def packageTransactionData(self, date, name, amount, priority, rateOfRecurrence):\n",
    "        package = TransactionPackage()\n",
    "        package.name = name\n",
    "        package.date = self.createDateList(date, rateOfRecurrence)\n",
    "        package.amount = amount\n",
    "        package.rateOfRecurrence = rateOfRecurrence\n",
    "        package.priority = priority\n",
    "        \n",
    "        return package"
   ]
  },
  {
   "cell_type": "code",
   "execution_count": 258,
   "metadata": {},
   "outputs": [
    {
     "data": {
      "text/html": [
       "<div>\n",
       "<style scoped>\n",
       "    .dataframe tbody tr th:only-of-type {\n",
       "        vertical-align: middle;\n",
       "    }\n",
       "\n",
       "    .dataframe tbody tr th {\n",
       "        vertical-align: top;\n",
       "    }\n",
       "\n",
       "    .dataframe thead th {\n",
       "        text-align: right;\n",
       "    }\n",
       "</style>\n",
       "<table border=\"1\" class=\"dataframe\">\n",
       "  <thead>\n",
       "    <tr style=\"text-align: right;\">\n",
       "      <th></th>\n",
       "      <th>Date</th>\n",
       "      <th>Amount</th>\n",
       "      <th>Recurrence</th>\n",
       "      <th>Priority</th>\n",
       "    </tr>\n",
       "  </thead>\n",
       "  <tbody>\n",
       "  </tbody>\n",
       "</table>\n",
       "</div>"
      ],
      "text/plain": [
       "Empty DataFrame\n",
       "Columns: [Date, Amount, Recurrence, Priority]\n",
       "Index: []"
      ]
     },
     "execution_count": 258,
     "metadata": {},
     "output_type": "execute_result"
    }
   ],
   "source": [
    "agent = PseudoPandasAgent(plannedList)\n",
    "agent.dataframeCreator.plannedDf"
   ]
  },
  {
   "cell_type": "code",
   "execution_count": 259,
   "metadata": {},
   "outputs": [
    {
     "name": "stdout",
     "output_type": "stream",
     "text": [
      "[<__main__.PlannedTransaction object at 0x0000027D87756828>, <__main__.PlannedTransaction object at 0x0000027D8769D978>]\n",
      "<__main__.PlannedTransaction object at 0x0000027D87756828>\n",
      "2019/04/03 26 2W\n",
      "         Date Amount Recurrence Priority\n",
      "0  2019-04-07    500  bi-weekly        2\n",
      "1  2019-04-21    500  bi-weekly        2\n",
      "2  2019-05-05    500  bi-weekly        2\n",
      "3  2019-05-19    500  bi-weekly        2\n",
      "4  2019-06-02    500  bi-weekly        2\n",
      "5  2019-06-16    500  bi-weekly        2\n",
      "6  2019-06-30    500  bi-weekly        2\n",
      "7  2019-07-14    500  bi-weekly        2\n",
      "8  2019-07-28    500  bi-weekly        2\n",
      "9  2019-08-11    500  bi-weekly        2\n",
      "10 2019-08-25    500  bi-weekly        2\n",
      "11 2019-09-08    500  bi-weekly        2\n",
      "12 2019-09-22    500  bi-weekly        2\n",
      "13 2019-10-06    500  bi-weekly        2\n",
      "14 2019-10-20    500  bi-weekly        2\n",
      "15 2019-11-03    500  bi-weekly        2\n",
      "16 2019-11-17    500  bi-weekly        2\n",
      "17 2019-12-01    500  bi-weekly        2\n",
      "18 2019-12-15    500  bi-weekly        2\n",
      "19 2019-12-29    500  bi-weekly        2\n",
      "20 2020-01-12    500  bi-weekly        2\n",
      "21 2020-01-26    500  bi-weekly        2\n",
      "22 2020-02-09    500  bi-weekly        2\n",
      "23 2020-02-23    500  bi-weekly        2\n",
      "24 2020-03-08    500  bi-weekly        2\n",
      "25 2020-03-22    500  bi-weekly        2\n",
      "<__main__.PlannedTransaction object at 0x0000027D8769D978>\n",
      "2019/05/05 12 M\n",
      "         Date Amount Recurrence Priority\n",
      "0  2019-04-07    500  bi-weekly        2\n",
      "1  2019-04-21    500  bi-weekly        2\n",
      "2  2019-05-05    500  bi-weekly        2\n",
      "3  2019-05-19    500  bi-weekly        2\n",
      "4  2019-06-02    500  bi-weekly        2\n",
      "5  2019-06-16    500  bi-weekly        2\n",
      "6  2019-06-30    500  bi-weekly        2\n",
      "7  2019-07-14    500  bi-weekly        2\n",
      "8  2019-07-28    500  bi-weekly        2\n",
      "9  2019-08-11    500  bi-weekly        2\n",
      "10 2019-08-25    500  bi-weekly        2\n",
      "11 2019-09-08    500  bi-weekly        2\n",
      "12 2019-09-22    500  bi-weekly        2\n",
      "13 2019-10-06    500  bi-weekly        2\n",
      "14 2019-10-20    500  bi-weekly        2\n",
      "15 2019-11-03    500  bi-weekly        2\n",
      "16 2019-11-17    500  bi-weekly        2\n",
      "17 2019-12-01    500  bi-weekly        2\n",
      "18 2019-12-15    500  bi-weekly        2\n",
      "19 2019-12-29    500  bi-weekly        2\n",
      "20 2020-01-12    500  bi-weekly        2\n",
      "21 2020-01-26    500  bi-weekly        2\n",
      "22 2020-02-09    500  bi-weekly        2\n",
      "23 2020-02-23    500  bi-weekly        2\n",
      "24 2020-03-08    500  bi-weekly        2\n",
      "25 2020-03-22    500  bi-weekly        2\n",
      "26 2019-05-31    500    monthly        1\n",
      "27 2019-06-30    500    monthly        1\n",
      "28 2019-07-31    500    monthly        1\n",
      "29 2019-08-31    500    monthly        1\n",
      "30 2019-09-30    500    monthly        1\n",
      "31 2019-10-31    500    monthly        1\n",
      "32 2019-11-30    500    monthly        1\n",
      "33 2019-12-31    500    monthly        1\n",
      "34 2020-01-31    500    monthly        1\n",
      "35 2020-02-29    500    monthly        1\n",
      "36 2020-03-31    500    monthly        1\n",
      "37 2020-04-30    500    monthly        1\n"
     ]
    }
   ],
   "source": [
    "agent.makePlannedTransactionDataframe()"
   ]
  },
  {
   "cell_type": "code",
   "execution_count": null,
   "metadata": {},
   "outputs": [],
   "source": []
  }
 ],
 "metadata": {
  "kernelspec": {
   "display_name": "Python 3",
   "language": "python",
   "name": "python3"
  },
  "language_info": {
   "codemirror_mode": {
    "name": "ipython",
    "version": 3
   },
   "file_extension": ".py",
   "mimetype": "text/x-python",
   "name": "python",
   "nbconvert_exporter": "python",
   "pygments_lexer": "ipython3",
   "version": "3.7.3"
  }
 },
 "nbformat": 4,
 "nbformat_minor": 2
}
