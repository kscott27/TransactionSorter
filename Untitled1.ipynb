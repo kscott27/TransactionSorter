{
 "cells": [
  {
   "cell_type": "code",
   "execution_count": 1,
   "metadata": {},
   "outputs": [],
   "source": [
    "import pandas as pd\n",
    "import matplotlib.pyplot as plt"
   ]
  },
  {
   "cell_type": "code",
   "execution_count": 2,
   "metadata": {},
   "outputs": [],
   "source": [
    "class PlannedTransaction():\n",
    "\n",
    "  def __init__(self, name=None):\n",
    "    self.name = name\n",
    "    self.initialized = False\n",
    "    self.key = None\n",
    "\n",
    "  def initialize(self, date=None, category=None, amount=0.0, location=None, \n",
    "                 idKeywords=[], recurring=False, rateOfRecurrence=None, priority=3):\n",
    "    self.initialized = True\n",
    "    self.date = date\n",
    "    self.category = category\n",
    "    self.amount = amount\n",
    "    self.location = location\n",
    "    self.idKeywords = idKeywords\n",
    "    self.priority = priority\n",
    "\n",
    "    if recurring == True:\n",
    "      if rateOfRecurrence == \"annually\":\n",
    "        self.recurring = recurring\n",
    "        self.rateOfRecurrence = rateOfRecurrence\n",
    "      elif rateOfRecurrence == \"bi-annually\":\n",
    "        self.recurring = recurring\n",
    "        self.rateOfRecurrence = rateOfRecurrence\n",
    "      elif rateOfRecurrence == \"quarterly\":\n",
    "        self.recurring = recurring\n",
    "        self.rateOfRecurrence == rateOfRecurrence\n",
    "      elif rateOfRecurrence == \"monthly\":\n",
    "        self.recurring = recurring\n",
    "        self.rateOfRecurrence = rateOfRecurrence\n",
    "      elif rateOfRecurrence == \"bi-weekly\":\n",
    "        self.recurring = recurring\n",
    "        self.rateOfRecurrence = rateOfRecurrence\n",
    "      elif rateOfRecurrence == \"weekly\":\n",
    "        self.recurring = recurring\n",
    "        self.rateOfRecurrence = rateOfRecurrence\n",
    "      elif rateOfRecurrence == \"daily\":\n",
    "        self.recurring = recurring\n",
    "        self.rateOfRecurrence = rateOfRecurrence\n",
    "      else:\n",
    "        print(\"Unrecognized rate of recurrence - transaction has defaulted to non-recurring.\")\n",
    "        self.recurring = False\n",
    "        self.rateOfRecurrence = None\n",
    "    else:\n",
    "      self.recurring = False\n",
    "      self.rateOfRecurrence = None"
   ]
  },
  {
   "cell_type": "code",
   "execution_count": 13,
   "metadata": {},
   "outputs": [
    {
     "data": {
      "text/plain": [
       "(<__main__.PlannedTransaction at 0x27d85dd9470>,\n",
       " '2019/04/03',\n",
       " 500,\n",
       " 'bi-weekly')"
      ]
     },
     "execution_count": 13,
     "metadata": {},
     "output_type": "execute_result"
    }
   ],
   "source": [
    "Coachella = PlannedTransaction()\n",
    "Coachella.date = '2019/04/03'\n",
    "Coachella.amount = 500\n",
    "Coachella.rateOfRecurrence = 'bi-weekly'\n",
    "Coachella.priority = 2\n",
    "Coachella, Coachella.date, Coachella.amount, Coachella.rateOfRecurrence"
   ]
  },
  {
   "cell_type": "code",
   "execution_count": 4,
   "metadata": {},
   "outputs": [],
   "source": [
    "petLemur = PlannedTransaction()\n",
    "petLemur.date = '2020/05/05'\n",
    "petLemur.amount = 500\n",
    "petLemur.rateOfRecurrence = None\n",
    "petLemur.priority = 1"
   ]
  },
  {
   "cell_type": "code",
   "execution_count": 14,
   "metadata": {},
   "outputs": [
    {
     "data": {
      "text/plain": [
       "[<__main__.PlannedTransaction at 0x27d85dd9470>,\n",
       " <__main__.PlannedTransaction at 0x27d85d09748>]"
      ]
     },
     "execution_count": 14,
     "metadata": {},
     "output_type": "execute_result"
    }
   ],
   "source": [
    "plannedList = []\n",
    "plannedList.append(Coachella)\n",
    "plannedList.append(petLemur)\n",
    "plannedList"
   ]
  },
  {
   "cell_type": "code",
   "execution_count": 12,
   "metadata": {},
   "outputs": [],
   "source": [
    "class TransactionPackage():\n",
    "    \n",
    "    def __init__(self, date=None, amount=None, priority=None):\n",
    "        self.date = None\n",
    "        self.amount = None\n",
    "        self.priority = None\n",
    "        self.rateOfRecurrence = None"
   ]
  },
  {
   "cell_type": "code",
   "execution_count": 11,
   "metadata": {},
   "outputs": [],
   "source": [
    "class DataframeCreator():\n",
    "\n",
    "    def __init__(self, df=None): \n",
    "        self.plannedDf = pd.DataFrame(columns=['Date', 'Amount', 'Recurrence','Priority'])\n",
    "\n",
    "    def addTransactionToDataframe(self, transaction):\n",
    "        if type(transaction.date) == list:\n",
    "            for item in transaction.date:\n",
    "                self.plannedDf = self.plannedDf.append({'Date': item, 'Amount': transaction.amount, \n",
    "                                    'Recurrence': transaction.rateOfRecurrence, 'Priority': transaction.priority}, ignore_index=True)\n",
    "        else:        \n",
    "            self.plannedDf = self.plannedDf.append({'Date': transaction.date, 'Amount': transaction.amount,\n",
    "                'Priority': transaction.priority, 'Recurrence': transaction.rateOfRecurrence}, ignore_index=True)\n",
    "\n",
    "    def sortTransactions(self):\n",
    "        self.plannedDf['Date'].sort_values()"
   ]
  },
  {
   "cell_type": "code",
   "execution_count": 18,
   "metadata": {},
   "outputs": [],
   "source": [
    "class DataProcessor():\n",
    "\n",
    "\n",
    "    def __init__(self, freqKey=None):\n",
    "        self.freqKey = {'annually': ['A', 1], 'monthly': ['M', 12], 'bi-weekly': ['2W', 26] , 'weekly': ['W', 52]}\n",
    "\n",
    "    def createDateList(self, startDay, rateOfRecurrence):\n",
    "        if rateOfRecurrence == None:\n",
    "          return startDay\n",
    "\n",
    "        return list(pd.date_range(startDay, periods=self.freqKey[rateOfRecurrence][1], freq=self.freqKey[rateOfRecurrence][0]))\n",
    "\n",
    "    def packageTransactionData(self, date, amount, priority, rateOfRecurrence):\n",
    "        package = TransactionPackage()\n",
    "        package.date = self.createDateList(date, rateOfRecurrence)\n",
    "        package.amount = amount\n",
    "        package.rateOfRecurrence = rateOfRecurrence\n",
    "        package.priority = priority\n",
    "        \n",
    "        return package"
   ]
  },
  {
   "cell_type": "code",
   "execution_count": 19,
   "metadata": {},
   "outputs": [
    {
     "ename": "NameError",
     "evalue": "name 'self' is not defined",
     "output_type": "error",
     "traceback": [
      "\u001b[1;31m---------------------------------------------------------------------------\u001b[0m",
      "\u001b[1;31mNameError\u001b[0m                                 Traceback (most recent call last)",
      "\u001b[1;32m<ipython-input-19-051ee6156857>\u001b[0m in \u001b[0;36m<module>\u001b[1;34m\u001b[0m\n\u001b[0;32m      1\u001b[0m \u001b[1;32mfor\u001b[0m \u001b[0mitem\u001b[0m \u001b[1;32min\u001b[0m \u001b[0mplannedList\u001b[0m\u001b[1;33m:\u001b[0m\u001b[1;33m\u001b[0m\u001b[1;33m\u001b[0m\u001b[0m\n\u001b[1;32m----> 2\u001b[1;33m     \u001b[0mpackage\u001b[0m \u001b[1;33m=\u001b[0m \u001b[0mDataProcessor\u001b[0m\u001b[1;33m.\u001b[0m\u001b[0mpackageTransactionData\u001b[0m\u001b[1;33m(\u001b[0m\u001b[0mitem\u001b[0m\u001b[1;33m.\u001b[0m\u001b[0mdate\u001b[0m\u001b[1;33m,\u001b[0m \u001b[0mitem\u001b[0m\u001b[1;33m.\u001b[0m\u001b[0mamount\u001b[0m\u001b[1;33m,\u001b[0m \u001b[0mitem\u001b[0m\u001b[1;33m.\u001b[0m\u001b[0mpriority\u001b[0m\u001b[1;33m,\u001b[0m \u001b[0mitem\u001b[0m\u001b[1;33m.\u001b[0m\u001b[0mrateOfRecurrence\u001b[0m\u001b[1;33m)\u001b[0m\u001b[1;33m\u001b[0m\u001b[1;33m\u001b[0m\u001b[0m\n\u001b[0m",
      "\u001b[1;32m<ipython-input-18-2c84d2ceee8a>\u001b[0m in \u001b[0;36mpackageTransactionData\u001b[1;34m(date, amount, priority, rateOfRecurrence)\u001b[0m\n\u001b[0;32m     13\u001b[0m     \u001b[1;32mdef\u001b[0m \u001b[0mpackageTransactionData\u001b[0m\u001b[1;33m(\u001b[0m\u001b[0mdate\u001b[0m\u001b[1;33m,\u001b[0m \u001b[0mamount\u001b[0m\u001b[1;33m,\u001b[0m \u001b[0mpriority\u001b[0m\u001b[1;33m,\u001b[0m \u001b[0mrateOfRecurrence\u001b[0m\u001b[1;33m)\u001b[0m\u001b[1;33m:\u001b[0m\u001b[1;33m\u001b[0m\u001b[1;33m\u001b[0m\u001b[0m\n\u001b[0;32m     14\u001b[0m         \u001b[0mpackage\u001b[0m \u001b[1;33m=\u001b[0m \u001b[0mTransactionPackage\u001b[0m\u001b[1;33m(\u001b[0m\u001b[1;33m)\u001b[0m\u001b[1;33m\u001b[0m\u001b[1;33m\u001b[0m\u001b[0m\n\u001b[1;32m---> 15\u001b[1;33m         \u001b[0mpackage\u001b[0m\u001b[1;33m.\u001b[0m\u001b[0mdate\u001b[0m \u001b[1;33m=\u001b[0m \u001b[0mself\u001b[0m\u001b[1;33m.\u001b[0m\u001b[0mcreateDateList\u001b[0m\u001b[1;33m(\u001b[0m\u001b[0mdate\u001b[0m\u001b[1;33m,\u001b[0m \u001b[0mrateOfRecurrence\u001b[0m\u001b[1;33m)\u001b[0m\u001b[1;33m\u001b[0m\u001b[1;33m\u001b[0m\u001b[0m\n\u001b[0m\u001b[0;32m     16\u001b[0m         \u001b[0mpackage\u001b[0m\u001b[1;33m.\u001b[0m\u001b[0mamount\u001b[0m \u001b[1;33m=\u001b[0m \u001b[0mamount\u001b[0m\u001b[1;33m\u001b[0m\u001b[1;33m\u001b[0m\u001b[0m\n\u001b[0;32m     17\u001b[0m         \u001b[0mpackage\u001b[0m\u001b[1;33m.\u001b[0m\u001b[0mrateOfRecurrence\u001b[0m \u001b[1;33m=\u001b[0m \u001b[0mrateOfRecurrence\u001b[0m\u001b[1;33m\u001b[0m\u001b[1;33m\u001b[0m\u001b[0m\n",
      "\u001b[1;31mNameError\u001b[0m: name 'self' is not defined"
     ]
    }
   ],
   "source": [
    "for item in plannedList:\n",
    "    package = DataProcessor.packageTransactionData(item.date, item.amount, item.priority, item.rateOfRecurrence)"
   ]
  },
  {
   "cell_type": "code",
   "execution_count": null,
   "metadata": {},
   "outputs": [],
   "source": []
  }
 ],
 "metadata": {
  "kernelspec": {
   "display_name": "Python 3",
   "language": "python",
   "name": "python3"
  },
  "language_info": {
   "codemirror_mode": {
    "name": "ipython",
    "version": 3
   },
   "file_extension": ".py",
   "mimetype": "text/x-python",
   "name": "python",
   "nbconvert_exporter": "python",
   "pygments_lexer": "ipython3",
   "version": "3.7.3"
  }
 },
 "nbformat": 4,
 "nbformat_minor": 2
}
